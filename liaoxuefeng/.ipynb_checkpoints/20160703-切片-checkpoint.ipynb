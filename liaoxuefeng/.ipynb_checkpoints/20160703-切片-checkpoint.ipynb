{
 "cells": [
  {
   "cell_type": "code",
   "execution_count": 1,
   "metadata": {
    "collapsed": true
   },
   "outputs": [],
   "source": [
    "d={'a':1,'b':2,'c':3}"
   ]
  },
  {
   "cell_type": "code",
   "execution_count": 2,
   "metadata": {},
   "outputs": [
    {
     "name": "stdout",
     "output_type": "stream",
     "text": [
      "a\n",
      "b\n",
      "c\n"
     ]
    }
   ],
   "source": [
    "for key in d:\n",
    "    print(key)"
   ]
  },
  {
   "cell_type": "code",
   "execution_count": 3,
   "metadata": {},
   "outputs": [
    {
     "name": "stdout",
     "output_type": "stream",
     "text": [
      "1\n",
      "2\n",
      "3\n"
     ]
    }
   ],
   "source": [
    "for value in d.values():\n",
    "    print(value)"
   ]
  },
  {
   "cell_type": "code",
   "execution_count": 4,
   "metadata": {},
   "outputs": [
    {
     "name": "stdout",
     "output_type": "stream",
     "text": [
      "a 1\n",
      "b 2\n",
      "c 3\n"
     ]
    }
   ],
   "source": [
    "for k,v in d.items():\n",
    "    print(k,v)"
   ]
  },
  {
   "cell_type": "code",
   "execution_count": 5,
   "metadata": {},
   "outputs": [
    {
     "name": "stdout",
     "output_type": "stream",
     "text": [
      "A\n",
      "B\n",
      "C\n"
     ]
    }
   ],
   "source": [
    "for ch in 'ABC':\n",
    "    print(ch)"
   ]
  },
  {
   "cell_type": "code",
   "execution_count": 7,
   "metadata": {},
   "outputs": [
    {
     "name": "stdout",
     "output_type": "stream",
     "text": [
      "1 1\n",
      "2 4\n",
      "3 9\n"
     ]
    }
   ],
   "source": [
    "for x,y in [(1,1),(2,4),(3,9)]:\n",
    "    print(x,y)"
   ]
  },
  {
   "cell_type": "code",
   "execution_count": 8,
   "metadata": {},
   "outputs": [
    {
     "name": "stdout",
     "output_type": "stream",
     "text": [
      "甲子\n",
      "乙丑\n",
      "丙寅\n",
      "丁卯\n",
      "戊辰\n",
      "己巳\n",
      "庚午\n",
      "辛未\n",
      "壬申\n",
      "癸酉\n",
      "甲戌\n",
      "乙亥\n",
      "丙子\n",
      "丁丑\n",
      "戊寅\n",
      "己卯\n",
      "庚辰\n",
      "辛巳\n",
      "壬午\n",
      "癸未\n",
      "甲申\n",
      "乙酉\n",
      "丙戌\n",
      "丁亥\n",
      "戊子\n",
      "己丑\n",
      "庚寅\n",
      "辛卯\n",
      "壬辰\n",
      "癸巳\n",
      "甲午\n",
      "乙未\n",
      "丙申\n",
      "丁酉\n",
      "戊戌\n",
      "己亥\n",
      "庚子\n",
      "辛丑\n",
      "壬寅\n",
      "癸卯\n",
      "甲辰\n",
      "乙巳\n",
      "丙午\n",
      "丁未\n",
      "戊申\n",
      "己酉\n",
      "庚戌\n",
      "辛亥\n",
      "壬子\n",
      "癸丑\n",
      "甲寅\n",
      "乙卯\n",
      "丙辰\n",
      "丁巳\n",
      "戊午\n",
      "己未\n",
      "庚申\n",
      "辛酉\n",
      "壬戌\n",
      "癸亥\n"
     ]
    }
   ],
   "source": [
    "a=('甲','乙','丙','丁','戊','己','庚','辛','壬','癸')\n",
    "b=('子','丑','寅','卯','辰','巳','午','未','申','酉','戌','亥')\n",
    "\n",
    "for i in range(60):\n",
    "    print(a[i%10]+b[i%12])"
   ]
  },
  {
   "cell_type": "code",
   "execution_count": null,
   "metadata": {
    "collapsed": true
   },
   "outputs": [],
   "source": []
  }
 ],
 "metadata": {
  "kernelspec": {
   "display_name": "Python 3",
   "language": "python",
   "name": "python3"
  },
  "language_info": {
   "codemirror_mode": {
    "name": "ipython",
    "version": 3
   },
   "file_extension": ".py",
   "mimetype": "text/x-python",
   "name": "python",
   "nbconvert_exporter": "python",
   "pygments_lexer": "ipython3",
   "version": "3.6.1"
  }
 },
 "nbformat": 4,
 "nbformat_minor": 2
}
