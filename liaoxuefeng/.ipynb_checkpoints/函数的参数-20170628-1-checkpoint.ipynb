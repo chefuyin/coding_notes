{
 "cells": [
  {
   "cell_type": "code",
   "execution_count": 6,
   "metadata": {},
   "outputs": [],
   "source": [
    "def f1(a,b,c=0,*args,**kw):\n",
    "    print('a=',a,'b=',b,'c=',c,'args=',args,'kw=',kw)"
   ]
  },
  {
   "cell_type": "code",
   "execution_count": 7,
   "metadata": {
    "collapsed": true
   },
   "outputs": [],
   "source": [
    "def f2(a,b,c=0,*,d,**kw):\n",
    "    print('a=',a,'b=',b,'c=',c,'d=',d,'kw=',kw)"
   ]
  },
  {
   "cell_type": "code",
   "execution_count": 8,
   "metadata": {},
   "outputs": [
    {
     "name": "stdout",
     "output_type": "stream",
     "text": [
      "a= 1 b= 2 c= 0 args= () kw= {}\n"
     ]
    }
   ],
   "source": [
    "f1(1,2)"
   ]
  },
  {
   "cell_type": "code",
   "execution_count": 9,
   "metadata": {},
   "outputs": [
    {
     "name": "stdout",
     "output_type": "stream",
     "text": [
      "a= 1 b= 2 c= 3 args= () kw= {}\n"
     ]
    }
   ],
   "source": [
    "f1(1,2,c=3)"
   ]
  },
  {
   "cell_type": "code",
   "execution_count": 10,
   "metadata": {},
   "outputs": [
    {
     "name": "stdout",
     "output_type": "stream",
     "text": [
      "a= 1 b= 2 c= 3 args= ('a', 'b') kw= {}\n"
     ]
    }
   ],
   "source": [
    "f1(1,2,3,'a','b')"
   ]
  },
  {
   "cell_type": "code",
   "execution_count": 11,
   "metadata": {},
   "outputs": [
    {
     "name": "stdout",
     "output_type": "stream",
     "text": [
      "a= 1 b= 2 c= 3 args= ('a', 'b') kw= {'x': 99}\n"
     ]
    }
   ],
   "source": [
    "f1(1,2,3,'a','b',x=99)"
   ]
  },
  {
   "cell_type": "code",
   "execution_count": 13,
   "metadata": {},
   "outputs": [
    {
     "name": "stdout",
     "output_type": "stream",
     "text": [
      "a= 1 b= 2 c= 3 args= ('a',) kw= {'g': 'b', 'x': 99}\n"
     ]
    }
   ],
   "source": [
    "f1(1,2,3,'a',g='b',x=99)"
   ]
  },
  {
   "cell_type": "code",
   "execution_count": 14,
   "metadata": {
    "collapsed": true
   },
   "outputs": [],
   "source": [
    "args=(1,2,3,4)\n",
    "kw={'d':99,'x':'#'}"
   ]
  },
  {
   "cell_type": "code",
   "execution_count": 15,
   "metadata": {},
   "outputs": [
    {
     "name": "stdout",
     "output_type": "stream",
     "text": [
      "a= 1 b= 2 c= 3 args= (4,) kw= {'d': 99, 'x': '#'}\n"
     ]
    }
   ],
   "source": [
    "f1(*args,**kw)"
   ]
  },
  {
   "cell_type": "code",
   "execution_count": 16,
   "metadata": {
    "collapsed": true
   },
   "outputs": [],
   "source": [
    "args=(1,2,3)\n",
    "kw={'d':88,'x':'#'}"
   ]
  },
  {
   "cell_type": "code",
   "execution_count": 17,
   "metadata": {},
   "outputs": [
    {
     "name": "stdout",
     "output_type": "stream",
     "text": [
      "a= 1 b= 2 c= 3 d= 88 kw= {'x': '#'}\n"
     ]
    }
   ],
   "source": [
    "f2(*args,**kw)"
   ]
  },
  {
   "cell_type": "code",
   "execution_count": 20,
   "metadata": {
    "collapsed": true
   },
   "outputs": [],
   "source": [
    "args=(1,2,3)\n",
    "kw={'d':88,'x':'#'}"
   ]
  },
  {
   "cell_type": "code",
   "execution_count": 21,
   "metadata": {},
   "outputs": [
    {
     "name": "stdout",
     "output_type": "stream",
     "text": [
      "a= 1 b= 2 c= 3 d= 88 kw= {'x': '#'}\n"
     ]
    }
   ],
   "source": [
    "f2(*args,**kw)"
   ]
  },
  {
   "cell_type": "code",
   "execution_count": 23,
   "metadata": {},
   "outputs": [],
   "source": [
    "def f3(a,b,d,c=0,**kw):\n",
    "    print('a=',a,'b=',b,'c=',c,'d=',d,'kw=',kw)"
   ]
  },
  {
   "cell_type": "code",
   "execution_count": 27,
   "metadata": {
    "collapsed": true
   },
   "outputs": [],
   "source": [
    "args=(1,2,3)\n",
    "kw={'c':88,'x':'#'}"
   ]
  },
  {
   "cell_type": "code",
   "execution_count": 28,
   "metadata": {},
   "outputs": [
    {
     "name": "stdout",
     "output_type": "stream",
     "text": [
      "a= 1 b= 2 c= 88 d= 3 kw= {'x': '#'}\n"
     ]
    }
   ],
   "source": [
    "f3(*args,**kw)"
   ]
  },
  {
   "cell_type": "code",
   "execution_count": null,
   "metadata": {
    "collapsed": true
   },
   "outputs": [],
   "source": []
  }
 ],
 "metadata": {
  "kernelspec": {
   "display_name": "Python 3",
   "language": "python",
   "name": "python3"
  },
  "language_info": {
   "codemirror_mode": {
    "name": "ipython",
    "version": 3
   },
   "file_extension": ".py",
   "mimetype": "text/x-python",
   "name": "python",
   "nbconvert_exporter": "python",
   "pygments_lexer": "ipython3",
   "version": "3.6.1"
  }
 },
 "nbformat": 4,
 "nbformat_minor": 2
}
